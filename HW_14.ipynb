{
 "cells": [
  {
   "cell_type": "code",
   "execution_count": 11,
   "id": "601c1ec5",
   "metadata": {},
   "outputs": [
    {
     "data": {
      "text/plain": [
       "0"
      ]
     },
     "execution_count": 11,
     "metadata": {},
     "output_type": "execute_result"
    }
   ],
   "source": [
    "def index_of_first_letter (s,l):\n",
    "    for i in range (len(s)):\n",
    "        if s[i] == l:\n",
    "            return i\n",
    "    return -1\n",
    "\n",
    "index_of_first_letter ('lil abzing','l')"
   ]
  },
  {
   "cell_type": "code",
   "execution_count": 12,
   "id": "bc4a9d6b",
   "metadata": {},
   "outputs": [
    {
     "data": {
      "text/plain": [
       "-1"
      ]
     },
     "execution_count": 12,
     "metadata": {},
     "output_type": "execute_result"
    }
   ],
   "source": [
    "def index_of_first_letter (s,l):\n",
    "    for i in range (len(s)):\n",
    "        if s[i] == l:\n",
    "            return i\n",
    "    return -1\n",
    "\n",
    "index_of_first_letter ('lil abzing','y')"
   ]
  }
 ],
 "metadata": {
  "kernelspec": {
   "display_name": "Python 3 (ipykernel)",
   "language": "python",
   "name": "python3"
  },
  "language_info": {
   "codemirror_mode": {
    "name": "ipython",
    "version": 3
   },
   "file_extension": ".py",
   "mimetype": "text/x-python",
   "name": "python",
   "nbconvert_exporter": "python",
   "pygments_lexer": "ipython3",
   "version": "3.9.12"
  }
 },
 "nbformat": 4,
 "nbformat_minor": 5
}
