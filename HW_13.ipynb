{
 "cells": [
  {
   "cell_type": "code",
   "execution_count": 2,
   "id": "edb0197a",
   "metadata": {},
   "outputs": [
    {
     "data": {
      "text/plain": [
       "'aaron heard cady word vomit in her bedroom near the her bed, duh'"
      ]
     },
     "execution_count": 2,
     "metadata": {},
     "output_type": "execute_result"
    }
   ],
   "source": [
    "from string import Template\n",
    "s = Template('$who heard $who2 word vomit in $room near the $objects')\n",
    "s.substitute(who = 'aaron',who2 = 'cady', room = 'her bedroom', objects = 'her bed, duh')"
   ]
  },
  {
   "cell_type": "code",
   "execution_count": null,
   "id": "ab322978",
   "metadata": {},
   "outputs": [],
   "source": [
    "# never spell substitute like \"subsitute\""
   ]
  },
  {
   "cell_type": "code",
   "execution_count": 4,
   "id": "c8acd9be",
   "metadata": {},
   "outputs": [
    {
     "data": {
      "text/plain": [
       "'ken thought he belonged to barbie but she didnt so ken turned barbieland into kendom'"
      ]
     },
     "execution_count": 4,
     "metadata": {},
     "output_type": "execute_result"
    }
   ],
   "source": [
    "from string import Template\n",
    "m = Template('$who thought $pronoun belonged to $who2 but $pronoun2 didnt so $who turned $land into $land2')\n",
    "m.substitute(who = 'ken',pronoun = 'he',who2 = 'barbie',pronoun2 = 'she',land = 'barbieland',land2 = 'kendom')"
   ]
  },
  {
   "cell_type": "code",
   "execution_count": 8,
   "id": "f22d7b1d",
   "metadata": {},
   "outputs": [
    {
     "name": "stdout",
     "output_type": "stream",
     "text": [
      "!\n",
      "!\n",
      "b\n",
      "u\n",
      "l\n",
      "c\n",
      "y\n",
      "e\n",
      "a\n",
      "y\n"
     ]
    }
   ],
   "source": [
    "y = 'yaeyclub!!'\n",
    "for i in range (len(y)):\n",
    "    print (y[-i-1])"
   ]
  }
 ],
 "metadata": {
  "kernelspec": {
   "display_name": "Python 3 (ipykernel)",
   "language": "python",
   "name": "python3"
  },
  "language_info": {
   "codemirror_mode": {
    "name": "ipython",
    "version": 3
   },
   "file_extension": ".py",
   "mimetype": "text/x-python",
   "name": "python",
   "nbconvert_exporter": "python",
   "pygments_lexer": "ipython3",
   "version": "3.9.12"
  }
 },
 "nbformat": 4,
 "nbformat_minor": 5
}
