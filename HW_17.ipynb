{
 "cells": [
  {
   "cell_type": "code",
   "execution_count": 14,
   "id": "a39e31d1",
   "metadata": {},
   "outputs": [
    {
     "data": {
      "text/plain": [
       "0"
      ]
     },
     "execution_count": 14,
     "metadata": {},
     "output_type": "execute_result"
    }
   ],
   "source": [
    "slay0 = 'mackena + nam nam'\n",
    "slay0.find ('mac')"
   ]
  },
  {
   "cell_type": "markdown",
   "id": "4022f0b8",
   "metadata": {},
   "source": [
    "This is the code to finding the position index for which you are finding"
   ]
  },
  {
   "cell_type": "markdown",
   "id": "2b1aab5c",
   "metadata": {},
   "source": [
    "Let's try another one..."
   ]
  },
  {
   "cell_type": "code",
   "execution_count": 15,
   "id": "625fbcb2",
   "metadata": {},
   "outputs": [
    {
     "data": {
      "text/plain": [
       "-1"
      ]
     },
     "execution_count": 15,
     "metadata": {},
     "output_type": "execute_result"
    }
   ],
   "source": [
    "slay1 = 'mackena + nam nam'\n",
    "slay1.find ('+ m')"
   ]
  },
  {
   "cell_type": "markdown",
   "id": "55fd749f",
   "metadata": {},
   "source": [
    "It returned -1 because it didn't find it"
   ]
  },
  {
   "cell_type": "code",
   "execution_count": 16,
   "id": "1090e033",
   "metadata": {},
   "outputs": [
    {
     "data": {
      "text/plain": [
       "3"
      ]
     },
     "execution_count": 16,
     "metadata": {},
     "output_type": "execute_result"
    }
   ],
   "source": [
    "slay2 = 'mackena + nam nam'\n",
    "slay2.find ('ke')"
   ]
  },
  {
   "cell_type": "markdown",
   "id": "b78a938e",
   "metadata": {},
   "source": [
    "Trying the split function!"
   ]
  },
  {
   "cell_type": "code",
   "execution_count": 6,
   "id": "c1664b9f",
   "metadata": {},
   "outputs": [
    {
     "name": "stdout",
     "output_type": "stream",
     "text": [
      "['i', 'love', 'movies', 'and', 'msa', 'videos', 'even', 'though', 'they', 'are', 'cringe']\n"
     ]
    }
   ],
   "source": [
    "queen0 = 'i love movies and msa videos even though they are cringe'\n",
    "slayqueen0 = queen0.split (' ')\n",
    "print (slayqueen0)"
   ]
  },
  {
   "cell_type": "code",
   "execution_count": 7,
   "id": "a4efa71f",
   "metadata": {},
   "outputs": [
    {
     "name": "stdout",
     "output_type": "stream",
     "text": [
      "['i love acting out murder mystries and playing the main character', ' duh!']\n"
     ]
    }
   ],
   "source": [
    "queen1 = 'i love acting out murder mystries and playing the main character, duh!'\n",
    "slayqueen1 = queen1.split (',')\n",
    "print (slayqueen1)"
   ]
  }
 ],
 "metadata": {
  "kernelspec": {
   "display_name": "Python 3 (ipykernel)",
   "language": "python",
   "name": "python3"
  },
  "language_info": {
   "codemirror_mode": {
    "name": "ipython",
    "version": 3
   },
   "file_extension": ".py",
   "mimetype": "text/x-python",
   "name": "python",
   "nbconvert_exporter": "python",
   "pygments_lexer": "ipython3",
   "version": "3.9.12"
  }
 },
 "nbformat": 4,
 "nbformat_minor": 5
}
