{
 "cells": [
  {
   "cell_type": "code",
   "execution_count": 3,
   "id": "60069e3c",
   "metadata": {},
   "outputs": [
    {
     "data": {
      "text/plain": [
       "15"
      ]
     },
     "execution_count": 3,
     "metadata": {},
     "output_type": "execute_result"
    }
   ],
   "source": [
    "l = [6,7,2]\n",
    "def add_entries_of_list(l):\n",
    "    x = 0\n",
    "    for i in range (len(l)):\n",
    "        x = x + l[i]\n",
    "    return x\n",
    "add_entries_of_list(l)"
   ]
  },
  {
   "cell_type": "code",
   "execution_count": 4,
   "id": "b9fc20e1",
   "metadata": {},
   "outputs": [
    {
     "data": {
      "text/plain": [
       "8"
      ]
     },
     "execution_count": 4,
     "metadata": {},
     "output_type": "execute_result"
    }
   ],
   "source": [
    "l = [6,7,2]\n",
    "def add_even_entries_of_list(l):\n",
    "    x = 0\n",
    "    for i in range (len(l)):\n",
    "        if i % 2 == 0: \n",
    "            x = x + l[i]\n",
    "    return x\n",
    "add_even_entries_of_list(l)"
   ]
  },
  {
   "cell_type": "code",
   "execution_count": null,
   "id": "72605ddc",
   "metadata": {},
   "outputs": [],
   "source": [
    "l = [6,7,2]\n",
    "def add_even_entries_of_list(l):\n",
    "    x = 0\n",
    "    for i in range (len(l), 2):\n",
    "        x = x + l[i]\n",
    "    return x\n",
    "add_even_entries_of_list(l)"
   ]
  },
  {
   "cell_type": "code",
   "execution_count": 10,
   "id": "0995982c",
   "metadata": {},
   "outputs": [
    {
     "name": "stdout",
     "output_type": "stream",
     "text": [
      "0\n",
      "2\n",
      "4\n",
      "6\n",
      "8\n"
     ]
    }
   ],
   "source": [
    "for i in range(0, 10, 2):\n",
    "    print(i)"
   ]
  },
  {
   "cell_type": "code",
   "execution_count": 12,
   "id": "3779f876",
   "metadata": {},
   "outputs": [],
   "source": [
    "for i in range(10, 2):\n",
    "    print(i)"
   ]
  },
  {
   "cell_type": "code",
   "execution_count": null,
   "id": "d11f963a",
   "metadata": {},
   "outputs": [],
   "source": []
  }
 ],
 "metadata": {
  "kernelspec": {
   "display_name": "Python 3 (ipykernel)",
   "language": "python",
   "name": "python3"
  },
  "language_info": {
   "codemirror_mode": {
    "name": "ipython",
    "version": 3
   },
   "file_extension": ".py",
   "mimetype": "text/x-python",
   "name": "python",
   "nbconvert_exporter": "python",
   "pygments_lexer": "ipython3",
   "version": "3.9.12"
  }
 },
 "nbformat": 4,
 "nbformat_minor": 5
}
