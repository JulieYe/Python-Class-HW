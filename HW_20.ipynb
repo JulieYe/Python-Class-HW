{
 "cells": [
  {
   "cell_type": "code",
   "execution_count": null,
   "id": "4c70a82b",
   "metadata": {},
   "outputs": [],
   "source": [
    "original_list = [2,3,1,5,1,3]\n",
    "def print_unique_things(original_list):\n",
    "    unique_list = []\n",
    "    for i in original_list:\n",
    "        if i not in unique_list:\n",
    "            unique_list.append(i)\n",
    "            \n",
    "    print (unique_list)\n",
    "print_unique_things(orginal_list)"
   ]
  },
  {
   "cell_type": "code",
   "execution_count": null,
   "id": "b49431ed",
   "metadata": {},
   "outputs": [],
   "source": []
  }
 ],
 "metadata": {
  "kernelspec": {
   "display_name": "Python 3 (ipykernel)",
   "language": "python",
   "name": "python3"
  },
  "language_info": {
   "codemirror_mode": {
    "name": "ipython",
    "version": 3
   },
   "file_extension": ".py",
   "mimetype": "text/x-python",
   "name": "python",
   "nbconvert_exporter": "python",
   "pygments_lexer": "ipython3",
   "version": "3.9.12"
  }
 },
 "nbformat": 4,
 "nbformat_minor": 5
}
