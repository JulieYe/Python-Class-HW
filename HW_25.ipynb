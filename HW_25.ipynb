{
 "cells": [
  {
   "cell_type": "code",
   "execution_count": 5,
   "id": "bd065e2f",
   "metadata": {
    "scrolled": true
   },
   "outputs": [
    {
     "name": "stdout",
     "output_type": "stream",
     "text": [
      "What would you like to do? 1. add, item_name, quantity. 2. check, item_name.\n",
      "add, cookie, 2\n",
      "{'apples': 5, 'bananas': 2, 'cupnoodles': 4, 'FERREROROCHER': 6, 'cookie': 2}\n"
     ]
    }
   ],
   "source": [
    "def add_item(shopping_dict, item, quantity):\n",
    "    shopping_dict[item] = shopping_dict.get(item, 0) + quantity\n",
    "    return shopping_dict\n",
    "\n",
    "def check_item(shopping_dict, item):\n",
    "    if item in shopping_dict:\n",
    "        quantity = shopping_dict [item]\n",
    "        print(f'Yes, there is/are {quantity} the shopping list.')\n",
    "    else:\n",
    "        print('No, it is not in the shopping list.')\n",
    "\n",
    "shopping_dict = {'apples': 5, 'bananas': 2, 'cupnoodles': 4, 'FERREROROCHER': 6}\n",
    "choice = str(input('What would you like to do? 1. add, item_name, quantity. 2. check, item_name.\\n'))\n",
    "if choice.startswith('add'):\n",
    "    operation, item, quantity = choice.split(',')\n",
    "    item = item.strip()\n",
    "    quantity = int(quantity)\n",
    "    updated_shopping_dict = add_item (shopping_dict, item, quantity)\n",
    "    print(updated_shopping_dict)\n",
    "elif choice.startswith('check'):\n",
    "    operation, item = choice.split(',')\n",
    "    item = item.strip()\n",
    "    check_item(shopping_dict, item)\n",
    "else:\n",
    "    print('ERR INVALID')"
   ]
  },
  {
   "cell_type": "code",
   "execution_count": 7,
   "id": "1ac93389",
   "metadata": {},
   "outputs": [
    {
     "name": "stdout",
     "output_type": "stream",
     "text": [
      "What would you like to do? 1. add, item_name, quantity. 2. check, item_name.\n",
      "check, FERREROROCHER\n",
      "Yes, there is/are 6 the shopping list.\n"
     ]
    }
   ],
   "source": [
    "def add_item(shopping_dict, item, quantity):\n",
    "    shopping_dict[item] = shopping_dict.get(item, 0) + quantity\n",
    "    return shopping_dict\n",
    "\n",
    "def check_item(shopping_dict, item):\n",
    "    if item in shopping_dict:\n",
    "        quantity = shopping_dict [item]\n",
    "        print(f'Yes, there is/are {quantity} the shopping list.')\n",
    "    else:\n",
    "        print('No, it is not in the shopping list.')\n",
    "\n",
    "shopping_dict = {'apples': 5, 'bananas': 2, 'cupnoodles': 4, 'FERREROROCHER': 6}\n",
    "choice = str(input('What would you like to do? 1. add, item_name, quantity. 2. check, item_name.\\n'))\n",
    "if choice.startswith('add'):\n",
    "    operation, item, quantity = choice.split(',')\n",
    "    item = item.strip()\n",
    "    quantity = int(quantity)\n",
    "    updated_shopping_dict = add_item (shopping_dict, item, quantity)\n",
    "    print(updated_shopping_dict)\n",
    "elif choice.startswith('check'):\n",
    "    operation, item = choice.split(',')\n",
    "    item = item.strip()\n",
    "    check_item(shopping_dict, item)\n",
    "else:\n",
    "    print('ERR INVALID')"
   ]
  }
 ],
 "metadata": {
  "kernelspec": {
   "display_name": "Python 3 (ipykernel)",
   "language": "python",
   "name": "python3"
  },
  "language_info": {
   "codemirror_mode": {
    "name": "ipython",
    "version": 3
   },
   "file_extension": ".py",
   "mimetype": "text/x-python",
   "name": "python",
   "nbconvert_exporter": "python",
   "pygments_lexer": "ipython3",
   "version": "3.9.12"
  }
 },
 "nbformat": 4,
 "nbformat_minor": 5
}
