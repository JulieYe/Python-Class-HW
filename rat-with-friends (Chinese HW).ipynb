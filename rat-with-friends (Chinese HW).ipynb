{
 "cells": [
  {
   "cell_type": "code",
   "execution_count": null,
   "id": "84fe17f0",
   "metadata": {},
   "outputs": [],
   "source": [
    "pew=input(\"Hi, I'm RAT! Who are you? \")\n",
    "print(\"Well,\",pew,\", I would like to say you're awesome, but I need to get to know you better.\")\n",
    "yum=input(\"What is your favorite food? \")\n",
    "print(\"\",yum,\"sounds delicious!\")\n",
    "po=input(\"What's your favorite sport? \")\n",
    "print(\"That's cool,\",po,\"seems fun! I play squash.\")\n",
    "bff=input(\"Who is your bestie boo? \")\n",
    "print(\"Nice,\",bff,\"seems very fun! Mine is Beya!\")\n",
    "madleiinnnnnn=input(\"What grade are you in (5 or below)? \")\n",
    "print(\"That's nice, I remember when I was in grade\",madleiinnnnnn,\". That was a fun grade to be in. I have one more question;\")\n",
    "jybsbdelba=input(\"What is your favorite subject?\")\n",
    "print(\"\",jybsbdelba,\"is your favorite? That's really cool! My favorite is social studies, because the teacher is so nice.\")\n",
    "print(\"Well, after that lovely conversation we had, I think you're awesome, and have a nice day!\")"
   ]
  },
  {
   "cell_type": "code",
   "execution_count": null,
   "id": "7dca8b3e",
   "metadata": {},
   "outputs": [],
   "source": []
  },
  {
   "cell_type": "code",
   "execution_count": null,
   "id": "801f81bf",
   "metadata": {},
   "outputs": [],
   "source": []
  },
  {
   "cell_type": "code",
   "execution_count": null,
   "id": "05474b63",
   "metadata": {},
   "outputs": [],
   "source": []
  },
  {
   "cell_type": "code",
   "execution_count": null,
   "id": "2b5fc421",
   "metadata": {},
   "outputs": [],
   "source": []
  },
  {
   "cell_type": "code",
   "execution_count": null,
   "id": "e956a5a3",
   "metadata": {},
   "outputs": [],
   "source": []
  },
  {
   "cell_type": "code",
   "execution_count": null,
   "id": "b29b8211",
   "metadata": {},
   "outputs": [],
   "source": []
  }
 ],
 "metadata": {
  "kernelspec": {
   "display_name": "Python 3 (ipykernel)",
   "language": "python",
   "name": "python3"
  },
  "language_info": {
   "codemirror_mode": {
    "name": "ipython",
    "version": 3
   },
   "file_extension": ".py",
   "mimetype": "text/x-python",
   "name": "python",
   "nbconvert_exporter": "python",
   "pygments_lexer": "ipython3",
   "version": "3.9.12"
  }
 },
 "nbformat": 4,
 "nbformat_minor": 5
}
