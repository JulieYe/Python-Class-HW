{
 "cells": [
  {
   "cell_type": "code",
   "execution_count": 2,
   "id": "5d5d0fd4",
   "metadata": {},
   "outputs": [
    {
     "data": {
      "text/plain": [
       "{'a': 2, 'r': 1, 'u': 1, 'b': 1}"
      ]
     },
     "execution_count": 2,
     "metadata": {},
     "output_type": "execute_result"
    }
   ],
   "source": [
    "def histogram_2(g):\n",
    "    d = {}\n",
    "    for letter in g: \n",
    "        d [letter] = d.get(letter , 0) + 1\n",
    "    return d\n",
    "\n",
    "histogram_2('aruba')"
   ]
  }
 ],
 "metadata": {
  "kernelspec": {
   "display_name": "Python 3 (ipykernel)",
   "language": "python",
   "name": "python3"
  },
  "language_info": {
   "codemirror_mode": {
    "name": "ipython",
    "version": 3
   },
   "file_extension": ".py",
   "mimetype": "text/x-python",
   "name": "python",
   "nbconvert_exporter": "python",
   "pygments_lexer": "ipython3",
   "version": "3.9.12"
  }
 },
 "nbformat": 4,
 "nbformat_minor": 5
}
