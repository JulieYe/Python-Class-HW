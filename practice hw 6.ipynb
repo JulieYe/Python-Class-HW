{
 "cells": [
  {
   "cell_type": "code",
   "execution_count": null,
   "id": "c5108ff6",
   "metadata": {},
   "outputs": [],
   "source": [
    "def fahrenheit_celcius (fahrenheit):\n",
    "    celcius = (fahrenheit - 32) * 5/9\n",
    "    return celcius\n",
    "\n",
    "f = float ( input ('Input your degrees fahrenheit: ') )\n",
    "\n",
    "fahrenheit_celcius (f)"
   ]
  },
  {
   "cell_type": "code",
   "execution_count": null,
   "id": "bfb70164",
   "metadata": {},
   "outputs": [],
   "source": []
  },
  {
   "cell_type": "code",
   "execution_count": null,
   "id": "17dce174",
   "metadata": {},
   "outputs": [],
   "source": []
  }
 ],
 "metadata": {
  "kernelspec": {
   "display_name": "Python 3 (ipykernel)",
   "language": "python",
   "name": "python3"
  },
  "language_info": {
   "codemirror_mode": {
    "name": "ipython",
    "version": 3
   },
   "file_extension": ".py",
   "mimetype": "text/x-python",
   "name": "python",
   "nbconvert_exporter": "python",
   "pygments_lexer": "ipython3",
   "version": "3.9.12"
  }
 },
 "nbformat": 4,
 "nbformat_minor": 5
}
