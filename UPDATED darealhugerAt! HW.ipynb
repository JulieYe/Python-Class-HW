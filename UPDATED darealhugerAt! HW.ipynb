{
 "cells": [
  {
   "cell_type": "code",
   "execution_count": null,
   "id": "49c4f343",
   "metadata": {},
   "outputs": [],
   "source": [
    "pew=input(\"Hi, I'm RAT! Who are you? \")\n",
    "print(f\"Well, {pew}, I would like to say you slay the day away, but I need to get to know you better.\")\n",
    "yum=input(\"What is your favorite food? \")\n",
    "print(f\"{yum} sounds delicious!\")\n",
    "po=input(\"What's your favorite sport? \")\n",
    "print(f\"That's cool, {po} seems fun! I play squash.\")\n",
    "bff=input(\"Who is your bestie boo? \")\n",
    "print(f\"Nice, {bff} seems very fun! Mine is Beya!\")\n",
    "madleiinnnnnn=input(\"What grade are you in (5 or below)? \")\n",
    "print(f\"That's nice, I remember when I was in grade {madleiinnnnnn}. That was a fun grade to be in. I have one more question;\")\n",
    "jybsbdelba=input(\"What is your favorite subject?\")\n",
    "print(f\"{jybsbdelba} is your favorite subject? That's really cool! Mine is social studies since the teacher is so nice.\")\n",
    "print(\"You slay the day away!!!\")"
   ]
  },
  {
   "cell_type": "code",
   "execution_count": null,
   "id": "13cb0dd6",
   "metadata": {},
   "outputs": [],
   "source": [
    "Prices=float(input('How much does your dinner cost? '))\n",
    "Tippercentage=float(input('What is your tip percentage? If you do not have one, enter 0. '))\n",
    "Taxpercentage=float(input('What is your tax percentage? If you do not have one, enter 0. '))\n",
    "Tip=Prices*Tippercentage\n",
    "print(f'The tips you have to pay is ${Tip}.')\n",
    "Tax=Prices*Taxpercentage\n",
    "print(f'The tax you need to pay is ${Tax}.')\n",
    "Total=Prices+Tip+Tax\n",
    "print(f'The total you need to pay is ${Total}.')"
   ]
  },
  {
   "cell_type": "code",
   "execution_count": null,
   "id": "88be8904",
   "metadata": {},
   "outputs": [],
   "source": [
    "print('Welcome to darealhugerAt!s area calculator for parallelograms and triangles!')\n",
    "def calculate_area():\n",
    "    base = float(input('Welcome to area calculator! Please enter a base: '))\n",
    "    height = float(input('Please enter a height: '))\n",
    "    print(f'Your total area right now is {base*height}.')\n",
    "    shape = input('Is your shape a triange (y/n)? ')\n",
    "    if shape == 'y':\n",
    "        print(f'Your total area right now is {base*height/2}.')\n",
    "    elif shape == 'n':\n",
    "        print(f'Your total area right now is {base*height}.')\n",
    "    else:\n",
    "        print('Type (y/n) by rerunning it please!')\n",
    "            \n",
    "calculate_area()"
   ]
  }
 ],
 "metadata": {
  "kernelspec": {
   "display_name": "Python 3 (ipykernel)",
   "language": "python",
   "name": "python3"
  },
  "language_info": {
   "codemirror_mode": {
    "name": "ipython",
    "version": 3
   },
   "file_extension": ".py",
   "mimetype": "text/x-python",
   "name": "python",
   "nbconvert_exporter": "python",
   "pygments_lexer": "ipython3",
   "version": "3.9.12"
  }
 },
 "nbformat": 4,
 "nbformat_minor": 5
}
