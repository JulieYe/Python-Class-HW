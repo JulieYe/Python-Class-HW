{
 "cells": [
  {
   "cell_type": "code",
   "execution_count": 7,
   "id": "1dfd7beb",
   "metadata": {},
   "outputs": [],
   "source": [
    "def calc_paint(length, height, cost_per_square_unit, discount_in_percentage):\n",
    "    # return the \"final\" cost\n",
    "    area = length * height # this is how you calculate area for rectangles\n",
    "    total_cost = area * cost_per_square_unit # because it is cost_per_square_unit for a square unit\n",
    "    final_cost = total_cost * (1 - discount_in_percentage / 100) # doing discount\n",
    "    return final_cost"
   ]
  },
  {
   "cell_type": "code",
   "execution_count": 9,
   "id": "3aa13880",
   "metadata": {},
   "outputs": [
    {
     "name": "stdout",
     "output_type": "stream",
     "text": [
      "Input your length: 7\n",
      "Input your height: 3\n",
      "Input the cost per square unit: 2\n",
      "Input the discount in percentage /enter the n in n%: 60\n"
     ]
    },
    {
     "data": {
      "text/plain": [
       "16.8"
      ]
     },
     "execution_count": 9,
     "metadata": {},
     "output_type": "execute_result"
    }
   ],
   "source": [
    "length = float (input ('Input your length: '))\n",
    "height = float (input ('Input your height: '))\n",
    "cost_per_square_unit = float (input ('Input the cost per square unit: '))\n",
    "discount_in_percentage = float (input ('Input the discount in percentage /enter the n in n%: '))\n",
    "calc_paint(length, height, cost_per_square_unit, discount_in_percentage)"
   ]
  },
  {
   "cell_type": "code",
   "execution_count": null,
   "id": "bbf49a7c",
   "metadata": {},
   "outputs": [],
   "source": []
  }
 ],
 "metadata": {
  "kernelspec": {
   "display_name": "Python 3 (ipykernel)",
   "language": "python",
   "name": "python3"
  },
  "language_info": {
   "codemirror_mode": {
    "name": "ipython",
    "version": 3
   },
   "file_extension": ".py",
   "mimetype": "text/x-python",
   "name": "python",
   "nbconvert_exporter": "python",
   "pygments_lexer": "ipython3",
   "version": "3.9.12"
  }
 },
 "nbformat": 4,
 "nbformat_minor": 5
}
