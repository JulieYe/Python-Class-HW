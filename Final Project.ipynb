{
 "cells": [
  {
   "cell_type": "markdown",
   "id": "485ba64d",
   "metadata": {},
   "source": [
    "# CLC = cute little critters"
   ]
  },
  {
   "cell_type": "markdown",
   "id": "6d879c0f",
   "metadata": {},
   "source": [
    "CLC's is a thing me and my brother made up when we were 6 and 3 respectively. :)"
   ]
  },
  {
   "cell_type": "code",
   "execution_count": 1,
   "id": "7f03b5c3",
   "metadata": {},
   "outputs": [
    {
     "data": {
      "text/plain": [
       "'/Users/feiye'"
      ]
     },
     "execution_count": 1,
     "metadata": {},
     "output_type": "execute_result"
    }
   ],
   "source": [
    "import os\n",
    "os.getcwd()"
   ]
  },
  {
   "cell_type": "markdown",
   "id": "7c4d805f",
   "metadata": {},
   "source": [
    "Definitions"
   ]
  },
  {
   "cell_type": "code",
   "execution_count": 1,
   "id": "e505962f",
   "metadata": {},
   "outputs": [],
   "source": [
    "import csv\n",
    "\n",
    "def create_dictionary_from_csv_1(file_path, key_column, value_column):\n",
    "    data = {}\n",
    "    with open(file_path, 'r') as csvfile:\n",
    "        csv_reader = csv.DictReader(csvfile)        \n",
    "        for row in csv_reader:\n",
    "            key = row[key_column]\n",
    "            value = row[value_column]\n",
    "            if value == 'Y':\n",
    "                data[key] = value\n",
    "    return data"
   ]
  },
  {
   "cell_type": "code",
   "execution_count": 1,
   "id": "1636be0b",
   "metadata": {},
   "outputs": [],
   "source": [
    "import csv\n",
    "\n",
    "def create_dictionary_from_csv_2(file_path, key_column, value_column):\n",
    "    data = {}\n",
    "    with open(file_path, 'r') as csvfile:\n",
    "        csv_reader = csv.DictReader(csvfile)        \n",
    "        for row in csv_reader:\n",
    "            key = row[key_column]\n",
    "            value = row[value_column]\n",
    "            if value == 'Squishmallow':\n",
    "                data[key] = value\n",
    "    return data"
   ]
  },
  {
   "cell_type": "code",
   "execution_count": null,
   "id": "dbb7da36",
   "metadata": {},
   "outputs": [],
   "source": [
    "import csv\n",
    "\n",
    "def create_dictionary_from_csv(file_path, key_column, value_column):\n",
    "    data = {}\n",
    "    with open(file_path, 'r') as csvfile:\n",
    "        csv_reader = csv.DictReader(csvfile)\n",
    "        for row in csv_reader:\n",
    "            key = row[key_column]\n",
    "            value = row[value_column]\n",
    "            data[key] = value\n",
    "            \n",
    "    return data"
   ]
  },
  {
   "cell_type": "markdown",
   "id": "a6a2e089",
   "metadata": {},
   "source": [
    "CLC's that are missing / deceased (:(()"
   ]
  },
  {
   "cell_type": "code",
   "execution_count": 3,
   "id": "78404108",
   "metadata": {
    "scrolled": true
   },
   "outputs": [
    {
     "data": {
      "text/plain": [
       "{'Foo-Foo/Marshy': 'Y', 'Rhino-y': 'Y', 'Papa': 'Y'}"
      ]
     },
     "execution_count": 3,
     "metadata": {},
     "output_type": "execute_result"
    }
   ],
   "source": [
    "create_dictionary_from_csv_1('CLC_PROJECT.csv', 'NAME', 'MISSING/DECEASED')"
   ]
  },
  {
   "cell_type": "markdown",
   "id": "9995945d",
   "metadata": {},
   "source": [
    "CLC's that are squishmallows"
   ]
  },
  {
   "cell_type": "code",
   "execution_count": 2,
   "id": "1a67a565",
   "metadata": {},
   "outputs": [
    {
     "data": {
      "text/plain": [
       "{'Cookie/Pusheen': 'Squishmallow', 'Blueberry': 'Squishmallow'}"
      ]
     },
     "execution_count": 2,
     "metadata": {},
     "output_type": "execute_result"
    }
   ],
   "source": [
    "create_dictionary_from_csv_2('CLC_PROJECT.csv', 'NAME', 'TYPE')"
   ]
  },
  {
   "cell_type": "code",
   "execution_count": 6,
   "id": "934ca406",
   "metadata": {},
   "outputs": [],
   "source": [
    "import csv\n",
    "\n",
    "def create_dictionary_from_csv(file_path, key_column, value_column):\n",
    "    data = {}\n",
    "    with open(file_path, 'r') as csvfile:\n",
    "        csv_reader = csv.DictReader(csvfile)\n",
    "        for row in csv_reader:\n",
    "            key = row[key_column]\n",
    "            value = row[value_column]\n",
    "            data[key] = value\n",
    "            \n",
    "    return data"
   ]
  },
  {
   "cell_type": "code",
   "execution_count": 9,
   "id": "4d8016ed",
   "metadata": {},
   "outputs": [],
   "source": [
    "def name_list_threshold(d, threshold):\n",
    "    name_list = []\n",
    "    for key in d:\n",
    "        if int(d[key]) > threshold:\n",
    "            name_list.append(key)\n",
    "    return name_list"
   ]
  },
  {
   "cell_type": "code",
   "execution_count": 14,
   "id": "09d85cdb",
   "metadata": {},
   "outputs": [],
   "source": [
    "def name_list_threshold_1(d, threshold):\n",
    "    name_list = []\n",
    "    for key in d:\n",
    "        if int(d[key]) == threshold:\n",
    "            name_list.append(key)\n",
    "    return name_list"
   ]
  },
  {
   "cell_type": "markdown",
   "id": "fc494110",
   "metadata": {},
   "source": [
    "CLC's loc (?)"
   ]
  },
  {
   "cell_type": "code",
   "execution_count": 7,
   "id": "04672521",
   "metadata": {},
   "outputs": [],
   "source": [
    "clc_loc = create_dictionary_from_csv('CLC_PROJECT.csv', 'NAME', 'LOC')"
   ]
  },
  {
   "cell_type": "code",
   "execution_count": 4,
   "id": "7b48d76a",
   "metadata": {
    "scrolled": true
   },
   "outputs": [
    {
     "name": "stdout",
     "output_type": "stream",
     "text": [
      "{'Cookie/Pusheen': 'Squishmallow', 'Blueberry': 'Squishmallow'}\n"
     ]
    }
   ],
   "source": [
    "clc_squishmallow = create_dictionary_from_csv_2('CLC_PROJECT.csv', 'NAME', 'TYPE')\n",
    "print (clc_squishmallow)"
   ]
  },
  {
   "cell_type": "markdown",
   "id": "0743b90c",
   "metadata": {},
   "source": [
    "CLC's with a loc of 4 or higher (4,5)"
   ]
  },
  {
   "cell_type": "code",
   "execution_count": 12,
   "id": "2659a892",
   "metadata": {
    "scrolled": true
   },
   "outputs": [
    {
     "name": "stdout",
     "output_type": "stream",
     "text": [
      "['MacKena', 'Naomi', 'Cookie/Pusheen', 'Chestnut', 'Foo-Foo/Marshy', 'Penny', 'Blueberry']\n"
     ]
    }
   ],
   "source": [
    "d = clc_loc\n",
    "threshold = 3\n",
    "clc_loc_4 = name_list_threshold(d, threshold)\n",
    "print (clc_loc_4)"
   ]
  },
  {
   "cell_type": "markdown",
   "id": "cbb9bc4f",
   "metadata": {},
   "source": [
    "CLC's with a lok of 4 or higher (4,5)"
   ]
  },
  {
   "cell_type": "code",
   "execution_count": 16,
   "id": "84f6482c",
   "metadata": {},
   "outputs": [],
   "source": [
    "clc_lok = create_dictionary_from_csv('CLC_PROJECT.csv', 'NAME', 'LOK')"
   ]
  },
  {
   "cell_type": "code",
   "execution_count": 17,
   "id": "47d68369",
   "metadata": {},
   "outputs": [
    {
     "name": "stdout",
     "output_type": "stream",
     "text": [
      "['Naomi', 'Tonkotsu', 'Chestnut', 'Foo-Foo/Marshy', 'Avocado B.', 'Penny', 'Goody Freeman', 'Octo']\n"
     ]
    }
   ],
   "source": [
    "d = clc_lok\n",
    "threshold = 4\n",
    "clc_lok_4 = name_list_threshold(d, threshold)\n",
    "print (clc_lok_4)"
   ]
  }
 ],
 "metadata": {
  "kernelspec": {
   "display_name": "Python 3 (ipykernel)",
   "language": "python",
   "name": "python3"
  },
  "language_info": {
   "codemirror_mode": {
    "name": "ipython",
    "version": 3
   },
   "file_extension": ".py",
   "mimetype": "text/x-python",
   "name": "python",
   "nbconvert_exporter": "python",
   "pygments_lexer": "ipython3",
   "version": "3.9.12"
  }
 },
 "nbformat": 4,
 "nbformat_minor": 5
}
