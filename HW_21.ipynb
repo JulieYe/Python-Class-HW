{
 "cells": [
  {
   "cell_type": "code",
   "execution_count": 72,
   "id": "89de211c",
   "metadata": {},
   "outputs": [
    {
     "data": {
      "text/plain": [
       "False"
      ]
     },
     "execution_count": 72,
     "metadata": {},
     "output_type": "execute_result"
    }
   ],
   "source": [
    "def has_duplicates(original_list):\n",
    "    new_list = []\n",
    "    for item in original_list:\n",
    "        if item in new_list:\n",
    "            return True\n",
    "        else:\n",
    "            new_list.append(item)\n",
    "    return False\n",
    "original_list = [2,3,4,5]\n",
    "has_duplicates(original_list)"
   ]
  },
  {
   "cell_type": "code",
   "execution_count": 73,
   "id": "76fdab5b",
   "metadata": {},
   "outputs": [
    {
     "name": "stdout",
     "output_type": "stream",
     "text": [
      "[2, 5]\n"
     ]
    }
   ],
   "source": [
    "original_list = [2,3,4,5,2,5]\n",
    "def get_duplicates(original_list):\n",
    "    new_list = []\n",
    "    duplicates_list = []\n",
    "    for item in original_list:\n",
    "        if item in new_list:\n",
    "            duplicates_list.append(item)\n",
    "        else:\n",
    "            new_list.append(item)\n",
    "    return duplicates_list\n",
    "duplicates_list = get_duplicates(original_list)\n",
    "print(duplicates_list)"
   ]
  }
 ],
 "metadata": {
  "kernelspec": {
   "display_name": "Python 3 (ipykernel)",
   "language": "python",
   "name": "python3"
  },
  "language_info": {
   "codemirror_mode": {
    "name": "ipython",
    "version": 3
   },
   "file_extension": ".py",
   "mimetype": "text/x-python",
   "name": "python",
   "nbconvert_exporter": "python",
   "pygments_lexer": "ipython3",
   "version": "3.9.12"
  }
 },
 "nbformat": 4,
 "nbformat_minor": 5
}
