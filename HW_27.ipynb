{
 "cells": [
  {
   "cell_type": "code",
   "execution_count": 1,
   "id": "093ce71d",
   "metadata": {},
   "outputs": [
    {
     "data": {
      "text/plain": [
       "'/Users/feiye'"
      ]
     },
     "execution_count": 1,
     "metadata": {},
     "output_type": "execute_result"
    }
   ],
   "source": [
    "import os\n",
    "os.getcwd()"
   ]
  },
  {
   "cell_type": "code",
   "execution_count": 13,
   "id": "bcdddd7e",
   "metadata": {},
   "outputs": [
    {
     "name": "stdout",
     "output_type": "stream",
     "text": [
      "{'Articuno': 'True', 'Zapdos': 'True', 'Moltres': 'True', 'Mewtwo': 'True', 'MewtwoMega Mewtwo X': 'True', 'MewtwoMega Mewtwo Y': 'True', 'Raikou': 'True', 'Entei': 'True', 'Suicune': 'True', 'Lugia': 'True', 'Ho-oh': 'True', 'Regirock': 'True', 'Regice': 'True', 'Registeel': 'True', 'Latias': 'True', 'LatiasMega Latias': 'True', 'Latios': 'True', 'LatiosMega Latios': 'True', 'Kyogre': 'True', 'KyogrePrimal Kyogre': 'True', 'Groudon': 'True', 'GroudonPrimal Groudon': 'True', 'Rayquaza': 'True', 'RayquazaMega Rayquaza': 'True', 'Jirachi': 'True', 'DeoxysNormal Forme': 'True', 'DeoxysAttack Forme': 'True', 'DeoxysDefense Forme': 'True', 'DeoxysSpeed Forme': 'True', 'Uxie': 'True', 'Mesprit': 'True', 'Azelf': 'True', 'Dialga': 'True', 'Palkia': 'True', 'Heatran': 'True', 'Regigigas': 'True', 'GiratinaAltered Forme': 'True', 'GiratinaOrigin Forme': 'True', 'Darkrai': 'True', 'ShayminLand Forme': 'True', 'ShayminSky Forme': 'True', 'Arceus': 'True', 'Victini': 'True', 'Cobalion': 'True', 'Terrakion': 'True', 'Virizion': 'True', 'TornadusIncarnate Forme': 'True', 'TornadusTherian Forme': 'True', 'ThundurusIncarnate Forme': 'True', 'ThundurusTherian Forme': 'True', 'Reshiram': 'True', 'Zekrom': 'True', 'LandorusIncarnate Forme': 'True', 'LandorusTherian Forme': 'True', 'Kyurem': 'True', 'KyuremBlack Kyurem': 'True', 'KyuremWhite Kyurem': 'True', 'Xerneas': 'True', 'Yveltal': 'True', 'Zygarde50% Forme': 'True', 'Diancie': 'True', 'DiancieMega Diancie': 'True', 'HoopaHoopa Confined': 'True', 'HoopaHoopa Unbound': 'True', 'Volcanion': 'True'}\n"
     ]
    }
   ],
   "source": [
    "import csv\n",
    "\n",
    "def create_dictionary_from_csv(file_path, key_column, value_column):\n",
    "    data = {}\n",
    "    with open(file_path, 'r') as csvfile:\n",
    "        csv_reader = csv.DictReader(csvfile)        \n",
    "        for row in csv_reader:\n",
    "            key = row[key_column]\n",
    "            value = row[value_column]\n",
    "            if value == 'True':\n",
    "                data[key] = value\n",
    "    return data\n",
    "\n",
    "# Example usage:\n",
    "file_path = 'pokemon.csv'\n",
    "key_column = 'Name'  # Replace 'Name' with the actual column header for keys\n",
    "value_column = 'Legendary' # Replace 'Age' with the actual column header for values\n",
    "csv_data = create_dictionary_from_csv(file_path, key_column, value_column)\n",
    "print(csv_data) "
   ]
  },
  {
   "cell_type": "code",
   "execution_count": 15,
   "id": "3198d87b",
   "metadata": {},
   "outputs": [
    {
     "name": "stdout",
     "output_type": "stream",
     "text": [
      "{'Charizard': 100, 'CharizardMega Charizard X': 100, 'CharizardMega Charizard Y': 100, 'BeedrillMega Beedrill': 145, 'Pidgeot': 101, 'PidgeotMega Pidgeot': 121, 'Raticate': 97, 'Fearow': 100, 'Pikachu': 90, 'Raichu': 110, 'Nidoking': 85, 'Ninetales': 100, 'Golbat': 90, 'Venomoth': 90, 'Diglett': 95, 'Dugtrio': 120, 'Meowth': 90, 'Persian': 115, 'Golduck': 85, 'Primeape': 95, 'Arcanine': 95, 'Poliwag': 90, 'Poliwhirl': 90, 'Abra': 90, 'Kadabra': 105, 'Alakazam': 120, 'AlakazamMega Alakazam': 150, 'Tentacruel': 100, 'Ponyta': 90, 'Rapidash': 105, 'Dodrio': 100, 'Haunter': 95, 'Gengar': 110, 'GengarMega Gengar': 130, 'Voltorb': 100, 'Electrode': 140, 'Hitmonlee': 87, 'Kangaskhan': 90, 'KangaskhanMega Kangaskhan': 100, 'Seadra': 85, 'Staryu': 85, 'Starmie': 115, 'Mr. Mime': 90, 'Scyther': 105, 'Jynx': 95, 'Electabuzz': 105, 'Magmar': 93, 'Pinsir': 85, 'PinsirMega Pinsir': 105, 'Tauros': 110, 'Gyarados': 81, 'GyaradosMega Gyarados': 81, 'Jolteon': 130, 'Aerodactyl': 130, 'AerodactylMega Aerodactyl': 150, 'Articuno': 85, 'Zapdos': 100, 'Moltres': 90, 'Mewtwo': 130, 'MewtwoMega Mewtwo X': 130, 'MewtwoMega Mewtwo Y': 140, 'Mew': 100, 'Typhlosion': 100, 'Furret': 90, 'Ledian': 85, 'Crobat': 130, 'Xatu': 95, 'Jumpluff': 110, 'Aipom': 85, 'Yanma': 95, 'Espeon': 110, 'Murkrow': 91, 'Misdreavus': 85, 'Girafarig': 85, 'Gligar': 85, 'Qwilfish': 85, 'Heracross': 85, 'Sneasel': 115, 'Houndoom': 95, 'HoundoomMega Houndoom': 115, 'Kingdra': 85, 'Stantler': 85, 'Elekid': 95, 'Magby': 83, 'Miltank': 100, 'Raikou': 115, 'Entei': 100, 'Suicune': 85, 'Lugia': 110, 'Ho-oh': 90, 'Celebi': 100, 'Grovyle': 95, 'Sceptile': 120, 'SceptileMega Sceptile': 145, 'BlazikenMega Blaziken': 100, 'Linoone': 100, 'Taillow': 85, 'Swellow': 125, 'Wingull': 85, 'GardevoirMega Gardevoir': 100, 'Vigoroth': 90, 'Slaking': 100, 'Ninjask': 160, 'MedichamMega Medicham': 100, 'Manectric': 105, 'ManectricMega Manectric': 135, 'Plusle': 95, 'Minun': 95, 'Volbeat': 85, 'Illumise': 85, 'Sharpedo': 95, 'SharpedoMega Sharpedo': 105, 'Flygon': 100, 'Zangoose': 90, 'Milotic': 81, 'AbsolMega Absol': 115, 'GlalieMega Glalie': 100, 'Luvdisc': 97, 'Salamence': 100, 'SalamenceMega Salamence': 120, 'MetagrossMega Metagross': 110, 'Latias': 110, 'LatiasMega Latias': 110, 'Latios': 110, 'LatiosMega Latios': 110, 'Kyogre': 90, 'KyogrePrimal Kyogre': 90, 'Groudon': 90, 'GroudonPrimal Groudon': 90, 'Rayquaza': 95, 'RayquazaMega Rayquaza': 115, 'Jirachi': 100, 'DeoxysNormal Forme': 150, 'DeoxysAttack Forme': 150, 'DeoxysDefense Forme': 90, 'DeoxysSpeed Forme': 180, 'Monferno': 81, 'Infernape': 108, 'Staraptor': 100, 'Roserade': 90, 'Pachirisu': 95, 'Buizel': 85, 'Floatzel': 115, 'Cherrim': 85, 'Ambipom': 115, 'Buneary': 85, 'Lopunny': 105, 'LopunnyMega Lopunny': 135, 'Mismagius': 105, 'Glameow': 85, 'Purugly': 112, 'Skuntank': 84, 'Chatot': 91, 'Gabite': 82, 'Garchomp': 102, 'GarchompMega Garchomp': 92, 'Lucario': 90, 'LucarioMega Lucario': 112, 'Drapion': 95, 'Toxicroak': 85, 'Lumineon': 91, 'Weavile': 125, 'Electivire': 95, 'Magmortar': 83, 'Yanmega': 95, 'Leafeon': 95, 'Gliscor': 95, 'Porygon-Z': 90, 'GalladeMega Gallade': 110, 'Froslass': 110, 'Rotom': 91, 'RotomHeat Rotom': 86, 'RotomWash Rotom': 86, 'RotomFrost Rotom': 86, 'RotomFan Rotom': 86, 'RotomMow Rotom': 86, 'Uxie': 95, 'Azelf': 115, 'Dialga': 90, 'Palkia': 100, 'Regigigas': 100, 'GiratinaAltered Forme': 90, 'GiratinaOrigin Forme': 90, 'Cresselia': 85, 'Manaphy': 100, 'Darkrai': 125, 'ShayminLand Forme': 100, 'ShayminSky Forme': 127, 'Arceus': 120, 'Victini': 100, 'Servine': 83, 'Serperior': 113, 'Liepard': 106, 'Simisage': 101, 'Simisear': 101, 'Simipour': 101, 'Unfezant': 93, 'Zebstrika': 116, 'Swoobat': 114, 'Excadrill': 88, 'Sawk': 85, 'Leavanny': 92, 'Scolipede': 112, 'Whimsicott': 116, 'Lilligant': 90, 'Basculin': 98, 'Krookodile': 92, 'DarmanitanStandard Mode': 95, 'Sigilyph': 97, 'Archeops': 110, 'Zoroark': 105, 'Cinccino': 115, 'Swanna': 98, 'Sawsbuck': 95, 'Emolga': 103, 'Galvantula': 108, 'Klinklang': 90, 'Haxorus': 97, 'Cryogonal': 105, 'Accelgor': 145, 'Mienshao': 105, 'Durant': 109, 'Hydreigon': 98, 'Volcarona': 100, 'Cobalion': 108, 'Terrakion': 108, 'Virizion': 108, 'TornadusIncarnate Forme': 111, 'TornadusTherian Forme': 121, 'ThundurusIncarnate Forme': 111, 'ThundurusTherian Forme': 101, 'Reshiram': 90, 'Zekrom': 90, 'LandorusIncarnate Forme': 101, 'LandorusTherian Forme': 91, 'Kyurem': 95, 'KyuremBlack Kyurem': 95, 'KyuremWhite Kyurem': 95, 'KeldeoOrdinary Forme': 108, 'KeldeoResolute Forme': 108, 'MeloettaAria Forme': 90, 'MeloettaPirouette Forme': 128, 'Genesect': 99, 'Delphox': 104, 'Frogadier': 97, 'Greninja': 122, 'Fletchinder': 84, 'Talonflame': 126, 'Vivillon': 89, 'Pyroar': 106, 'Furfrou': 102, 'MeowsticMale': 104, 'MeowsticFemale': 104, 'Heliolisk': 109, 'Hawlucha': 118, 'Dedenne': 101, 'GourgeistAverage Size': 84, 'GourgeistSmall Size': 99, 'Noivern': 123, 'Xerneas': 99, 'Yveltal': 99, 'Zygarde50% Forme': 95, 'DiancieMega Diancie': 110}\n"
     ]
    }
   ],
   "source": [
    "import csv\n",
    "\n",
    "def create_dictionary_from_csv(file_path, key_column, value_column):\n",
    "    data = {}\n",
    "    with open(file_path, 'r') as csvfile:\n",
    "        csv_reader = csv.DictReader(csvfile)\n",
    "        for row in csv_reader:\n",
    "            key = row[key_column]\n",
    "            value = int(row[value_column])\n",
    "            if value > 80:\n",
    "                data[key] = value\n",
    "    return data\n",
    "\n",
    "file_path = 'pokemon.csv'\n",
    "key_column = 'Name'\n",
    "value_column = 'Speed'\n",
    "csv_data = create_dictionary_from_csv(file_path, key_column, value_column)\n",
    "print(csv_data) "
   ]
  }
 ],
 "metadata": {
  "kernelspec": {
   "display_name": "Python 3 (ipykernel)",
   "language": "python",
   "name": "python3"
  },
  "language_info": {
   "codemirror_mode": {
    "name": "ipython",
    "version": 3
   },
   "file_extension": ".py",
   "mimetype": "text/x-python",
   "name": "python",
   "nbconvert_exporter": "python",
   "pygments_lexer": "ipython3",
   "version": "3.9.12"
  }
 },
 "nbformat": 4,
 "nbformat_minor": 5
}
