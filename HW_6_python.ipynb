{
 "cells": [
  {
   "cell_type": "code",
   "execution_count": 19,
   "id": "03d32b44",
   "metadata": {},
   "outputs": [
    {
     "name": "stdout",
     "output_type": "stream",
     "text": [
      "Input the unit you want to convert: fahrenheit\n",
      "Input the unit you want the result to convert to: celcius\n",
      "Input your degrees fahrenheit: 76\n",
      "In celcius the value is 24.444444444444443.\n"
     ]
    }
   ],
   "source": [
    "def celcius_fahrenheit(celcius):\n",
    "    fahrenheit = ( celcius * 9/5 ) + 32\n",
    "    return fahrenheit\n",
    "\n",
    "def fahrenheit_celcius(fahrenheit):\n",
    "    celcius = (fahrenheit - 32) * 5/9\n",
    "    return celcius\n",
    "\n",
    "original_unit = input ('Input the unit you want to convert: ')\n",
    "after_unit = input ('Input the unit you want the result to convert to: ')\n",
    "if original_unit == \"celcius\" and after_unit == \"fahrenheit\":\n",
    "    celcius = float ( input ('Input your degrees celcius: ') )\n",
    "    fahrenheit = celcius_fahrenheit(celcius)\n",
    "    print (f'In fahrenheit the value is {fahrenheit}.')\n",
    "elif original_unit == \"fahrenheit\" and after_unit == \"celcius\":\n",
    "    fahrenheit = float ( input ('Input your degrees fahrenheit: ') )\n",
    "    celcius = fahrenheit_celcius(fahrenheit)\n",
    "    print (f'In celcius the value is {celcius}.')\n",
    "else:\n",
    "    print (f'{original_unit} and {after_unit} are not supported at this time. Please rerun.')"
   ]
  },
  {
   "cell_type": "code",
   "execution_count": null,
   "id": "eb1be472",
   "metadata": {},
   "outputs": [],
   "source": []
  }
 ],
 "metadata": {
  "kernelspec": {
   "display_name": "Python 3 (ipykernel)",
   "language": "python",
   "name": "python3"
  },
  "language_info": {
   "codemirror_mode": {
    "name": "ipython",
    "version": 3
   },
   "file_extension": ".py",
   "mimetype": "text/x-python",
   "name": "python",
   "nbconvert_exporter": "python",
   "pygments_lexer": "ipython3",
   "version": "3.9.12"
  }
 },
 "nbformat": 4,
 "nbformat_minor": 5
}
