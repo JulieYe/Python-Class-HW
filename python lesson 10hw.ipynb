{
 "cells": [
  {
   "cell_type": "code",
   "execution_count": 7,
   "id": "363fe009",
   "metadata": {},
   "outputs": [
    {
     "name": "stdout",
     "output_type": "stream",
     "text": [
      "Input a number: 4584\n"
     ]
    },
    {
     "data": {
      "text/plain": [
       "'Divisible by 4 and 6.'"
      ]
     },
     "execution_count": 7,
     "metadata": {},
     "output_type": "execute_result"
    }
   ],
   "source": [
    "x = float ( input ( 'Input a number: ' ) )\n",
    "def divisible_by_4_and_6(x):\n",
    "    if (x%4 == 0) and (x%6 == 0):\n",
    "        return ( 'Divisible by 4 and 6.' )\n",
    "    else:\n",
    "        return ( 'Not divisible by 4 and 6.' )\n",
    "divisible_by_4_and_6(x)"
   ]
  }
 ],
 "metadata": {
  "kernelspec": {
   "display_name": "Python 3 (ipykernel)",
   "language": "python",
   "name": "python3"
  },
  "language_info": {
   "codemirror_mode": {
    "name": "ipython",
    "version": 3
   },
   "file_extension": ".py",
   "mimetype": "text/x-python",
   "name": "python",
   "nbconvert_exporter": "python",
   "pygments_lexer": "ipython3",
   "version": "3.9.12"
  }
 },
 "nbformat": 4,
 "nbformat_minor": 5
}
