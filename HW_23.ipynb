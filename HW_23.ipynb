{
 "cells": [
  {
   "cell_type": "code",
   "execution_count": 8,
   "id": "7cd75a26",
   "metadata": {},
   "outputs": [],
   "source": [
    "d = {'j':1 , 'u':1 , 'l': 1 , 'i':1 , 'e':2 , ' ':1 , 'r':2 , 'a':1 , 'n':1 , 'c':1 , 'h':1}\n",
    "def reverse_lookup2 ( d , x ):\n",
    "    l = []\n",
    "    for key in d:\n",
    "        if d[key] == x:\n",
    "            l.append (key)\n",
    "    return l"
   ]
  },
  {
   "cell_type": "code",
   "execution_count": 9,
   "id": "2ef5ac06",
   "metadata": {},
   "outputs": [
    {
     "data": {
      "text/plain": [
       "['j', 'u', 'l', 'i', ' ', 'a', 'n', 'c', 'h']"
      ]
     },
     "execution_count": 9,
     "metadata": {},
     "output_type": "execute_result"
    }
   ],
   "source": [
    "reverse_lookup2 ( d , 1 )"
   ]
  },
  {
   "cell_type": "code",
   "execution_count": 10,
   "id": "69d5dbb9",
   "metadata": {},
   "outputs": [
    {
     "data": {
      "text/plain": [
       "['e', 'r']"
      ]
     },
     "execution_count": 10,
     "metadata": {},
     "output_type": "execute_result"
    }
   ],
   "source": [
    "reverse_lookup2 ( d , 2 )"
   ]
  }
 ],
 "metadata": {
  "kernelspec": {
   "display_name": "Python 3 (ipykernel)",
   "language": "python",
   "name": "python3"
  },
  "language_info": {
   "codemirror_mode": {
    "name": "ipython",
    "version": 3
   },
   "file_extension": ".py",
   "mimetype": "text/x-python",
   "name": "python",
   "nbconvert_exporter": "python",
   "pygments_lexer": "ipython3",
   "version": "3.9.12"
  }
 },
 "nbformat": 4,
 "nbformat_minor": 5
}
