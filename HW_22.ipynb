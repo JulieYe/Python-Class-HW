{
 "cells": [
  {
   "cell_type": "code",
   "execution_count": null,
   "id": "d5315baa",
   "metadata": {},
   "outputs": [],
   "source": [
    "def histogram(g):\n",
    "    d = {}\n",
    "    for letter in g: \n",
    "        if letter not in d:\n",
    "            d [letter] = 1\n",
    "        else:\n",
    "            d [letter] = d [letter] + 1\n",
    "    return d"
   ]
  },
  {
   "cell_type": "code",
   "execution_count": 1,
   "id": "b1c7c886",
   "metadata": {},
   "outputs": [
    {
     "data": {
      "text/plain": [
       "{'a': 2, 'r': 1, 'u': 1, 'b': 1}"
      ]
     },
     "execution_count": 1,
     "metadata": {},
     "output_type": "execute_result"
    }
   ],
   "source": [
    "histogram ('aruba')"
   ]
  },
  {
   "cell_type": "code",
   "execution_count": 2,
   "id": "120f2593",
   "metadata": {},
   "outputs": [
    {
     "data": {
      "text/plain": [
       "{'t': 2,\n",
       " 'a': 2,\n",
       " 'r': 2,\n",
       " 'o': 1,\n",
       " ' ': 2,\n",
       " 'w': 1,\n",
       " 'i': 1,\n",
       " 'h': 1,\n",
       " 's': 1,\n",
       " 'u': 1,\n",
       " 'g': 1}"
      ]
     },
     "execution_count": 2,
     "metadata": {},
     "output_type": "execute_result"
    }
   ],
   "source": [
    "histogram ('taro with sugar')"
   ]
  },
  {
   "cell_type": "code",
   "execution_count": 4,
   "id": "64a806d2",
   "metadata": {},
   "outputs": [
    {
     "data": {
      "text/plain": [
       "{'a': 2, 'u': 1, 'n': 3, 't': 1, 'i': 1, 'e': 2, ' ': 1, 's': 1}"
      ]
     },
     "execution_count": 4,
     "metadata": {},
     "output_type": "execute_result"
    }
   ],
   "source": [
    "histogram ('auntie annes')"
   ]
  },
  {
   "cell_type": "code",
   "execution_count": 5,
   "id": "e1cb8f58",
   "metadata": {},
   "outputs": [
    {
     "data": {
      "text/plain": [
       "{'j': 1,\n",
       " 'u': 1,\n",
       " 'l': 1,\n",
       " 'i': 1,\n",
       " 'e': 2,\n",
       " ' ': 1,\n",
       " 'r': 2,\n",
       " 'a': 1,\n",
       " 'n': 1,\n",
       " 'c': 1,\n",
       " 'h': 1}"
      ]
     },
     "execution_count": 5,
     "metadata": {},
     "output_type": "execute_result"
    }
   ],
   "source": [
    "histogram ('julie rancher')"
   ]
  },
  {
   "cell_type": "code",
   "execution_count": 6,
   "id": "5e9e5bb8",
   "metadata": {},
   "outputs": [
    {
     "data": {
      "text/plain": [
       "{'t': 1, 'a': 1, 'y': 1, 'w': 1, 'o': 2, 'f': 1}"
      ]
     },
     "execution_count": 6,
     "metadata": {},
     "output_type": "execute_result"
    }
   ],
   "source": [
    "histogram ('taywoof')"
   ]
  }
 ],
 "metadata": {
  "kernelspec": {
   "display_name": "Python 3 (ipykernel)",
   "language": "python",
   "name": "python3"
  },
  "language_info": {
   "codemirror_mode": {
    "name": "ipython",
    "version": 3
   },
   "file_extension": ".py",
   "mimetype": "text/x-python",
   "name": "python",
   "nbconvert_exporter": "python",
   "pygments_lexer": "ipython3",
   "version": "3.9.12"
  }
 },
 "nbformat": 4,
 "nbformat_minor": 5
}
