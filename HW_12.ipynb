{
 "cells": [
  {
   "cell_type": "code",
   "execution_count": 13,
   "id": "63ea57d4",
   "metadata": {},
   "outputs": [
    {
     "name": "stdout",
     "output_type": "stream",
     "text": [
      "b\n",
      "a\n"
     ]
    }
   ],
   "source": [
    "def print_first_last_0(y):\n",
    "    print( y[ 0 ] )\n",
    "    print( y[ len( y ) - 1 ])\n",
    "print_first_last_0('banana')"
   ]
  },
  {
   "cell_type": "code",
   "execution_count": 17,
   "id": "bc1240d9",
   "metadata": {},
   "outputs": [
    {
     "name": "stdout",
     "output_type": "stream",
     "text": [
      "j\n",
      "y\n"
     ]
    }
   ],
   "source": [
    "def print_first_last_1(y):\n",
    "    print( y[ 0 ] )\n",
    "    print( y[ -1 ])\n",
    "print_first_last_1('julie is slay')"
   ]
  },
  {
   "cell_type": "code",
   "execution_count": 18,
   "id": "8d30969e",
   "metadata": {},
   "outputs": [
    {
     "name": "stdout",
     "output_type": "stream",
     "text": [
      "b\n",
      "!\n"
     ]
    }
   ],
   "source": [
    "def print_first_last_2(y):\n",
    "    print( y[ -len(y) ])\n",
    "    print( y[ -1 ])\n",
    "print_first_last_2('beya and masie are my pookies!')"
   ]
  },
  {
   "cell_type": "code",
   "execution_count": 28,
   "id": "805e3e2d",
   "metadata": {},
   "outputs": [
    {
     "name": "stdout",
     "output_type": "stream",
     "text": [
      "True\n"
     ]
    }
   ],
   "source": [
    "def find_letter(s, letter):\n",
    "    for character in s:\n",
    "        if character == letter:\n",
    "            return True\n",
    "    return False\n",
    "\n",
    "print(find_letter('lil abzing', 'z'))"
   ]
  },
  {
   "cell_type": "code",
   "execution_count": 29,
   "id": "a414de7f",
   "metadata": {},
   "outputs": [
    {
     "name": "stdout",
     "output_type": "stream",
     "text": [
      "False\n"
     ]
    }
   ],
   "source": [
    "def find_letter(s, letter):\n",
    "    for character in s:\n",
    "        if character == letter:\n",
    "            return True\n",
    "    return False\n",
    "\n",
    "print(find_letter('lil abzing', 'x'))"
   ]
  }
 ],
 "metadata": {
  "kernelspec": {
   "display_name": "Python 3 (ipykernel)",
   "language": "python",
   "name": "python3"
  },
  "language_info": {
   "codemirror_mode": {
    "name": "ipython",
    "version": 3
   },
   "file_extension": ".py",
   "mimetype": "text/x-python",
   "name": "python",
   "nbconvert_exporter": "python",
   "pygments_lexer": "ipython3",
   "version": "3.9.12"
  }
 },
 "nbformat": 4,
 "nbformat_minor": 5
}
