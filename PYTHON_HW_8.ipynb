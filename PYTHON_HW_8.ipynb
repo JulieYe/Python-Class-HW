{
 "cells": [
  {
   "cell_type": "code",
   "execution_count": 1,
   "id": "523cf51d",
   "metadata": {},
   "outputs": [],
   "source": [
    "import turtle\n",
    "\n",
    "cursor_1 = turtle.Turtle()\n",
    "cursor_2 = turtle.Turtle()\n",
    "\n",
    "cursor_1.shape ( 'classic' )\n",
    "cursor_2.shape ( 'classic' )\n",
    "cursor_1.color ( 'magenta' )\n",
    "cursor_2.color ( 'black' )\n",
    "\n",
    "for i in range(18):\n",
    "    cursor_1.circle(62.5)\n",
    "    cursor_1.left(20)\n",
    "for i in range(36):\n",
    "    cursor_2.circle(100)\n",
    "    cursor_2.left(10)"
   ]
  }
 ],
 "metadata": {
  "kernelspec": {
   "display_name": "Python 3 (ipykernel)",
   "language": "python",
   "name": "python3"
  },
  "language_info": {
   "codemirror_mode": {
    "name": "ipython",
    "version": 3
   },
   "file_extension": ".py",
   "mimetype": "text/x-python",
   "name": "python",
   "nbconvert_exporter": "python",
   "pygments_lexer": "ipython3",
   "version": "3.9.12"
  }
 },
 "nbformat": 4,
 "nbformat_minor": 5
}
